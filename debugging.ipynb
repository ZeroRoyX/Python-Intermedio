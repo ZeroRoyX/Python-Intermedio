{
 "cells": [
  {
   "cell_type": "code",
   "execution_count": null,
   "metadata": {},
   "outputs": [],
   "source": [
    "def divisors(num):\n",
    "    myrange = range(1, num + 1)\n",
    "    divisors = list(filter(lambda x: num % x == 1, myrange))\n",
    "    return divisors\n",
    "\n",
    "\n",
    "def run():\n",
    "    num = int(input('Choose a number: '))\n",
    "    print(divisors(num))\n",
    "    print(f'Program runned properly')\n",
    "\n",
    "if __name__ == '__main__':\n",
    "    run()"
   ]
  },
  {
   "cell_type": "code",
   "execution_count": null,
   "metadata": {},
   "outputs": [],
   "source": [
    "def palindrome(string):\n",
    "    return string == string[::-1]\n",
    "\n",
    "try:\n",
    "    print(palindrome(1))\n",
    "except TypeError:\n",
    "    print(\"Algo salio mal\")"
   ]
  },
  {
   "cell_type": "code",
   "execution_count": null,
   "metadata": {},
   "outputs": [],
   "source": [
    "def palindrome(string):\n",
    "    try:\n",
    "        if len(string) == 0:\n",
    "            raise ValueError(\"No se puede ingresar una cadena vacía\")\n",
    "        return string == string[::-1]\n",
    "    except ValueError as ve:\n",
    "        print(ve)\n",
    "        return False\n",
    "    \n",
    "try:\n",
    "    print(palindrome(\"\"))\n",
    "except TypeError:\n",
    "    print(\"Solo se pueden ingresar strings.\")"
   ]
  },
  {
   "cell_type": "code",
   "execution_count": null,
   "metadata": {},
   "outputs": [],
   "source": [
    "x = \"hello\"\n",
    "\n",
    "if not type(x) is int:\n",
    "  raise TypeError(\"Only integers are allowed\")"
   ]
  },
  {
   "cell_type": "code",
   "execution_count": 1,
   "metadata": {},
   "outputs": [
    {
     "name": "stdout",
     "output_type": "stream",
     "text": [
      "Zero has infinite divisors. Please use natural numbers.\n"
     ]
    }
   ],
   "source": [
    "def divisors(num):\n",
    "    myrange = range(1, num + 1)\n",
    "    divisors = list(filter(lambda x: num % x == 0, myrange))\n",
    "    return divisors\n",
    "\n",
    "\n",
    "def run():\n",
    "    try:\n",
    "        num = int(input('Choose a number: '))\n",
    "        # try:\n",
    "        if num < 0:\n",
    "            raise Exception(\"Negative numbers are not allowed. Please use natural numbers.\")\n",
    "        if num == 0:\n",
    "            raise Exception(\"Zero has infinite divisors. Please use natural numbers.\")\n",
    "        print(divisors(num))\n",
    "        print(f'Program runned properly')\n",
    "        # if num != int:\n",
    "        #     raise TypeError(\"Only integers are allowed\")\n",
    "    except ValueError:\n",
    "        print(\"Only integers are allowed\")\n",
    "    except Exception as ex:\n",
    "        print(ex)   \n",
    "\n",
    "if __name__ == '__main__':\n",
    "    run()"
   ]
  },
  {
   "cell_type": "code",
   "execution_count": null,
   "metadata": {},
   "outputs": [],
   "source": [
    "# def divisors(num):\n",
    "#     myrange = range(1, num + 1)\n",
    "#     divisors = list(filter(lambda x: num % x == 0, myrange))\n",
    "#     return divisors\n",
    "\n",
    "\n",
    "# def run():\n",
    "#     try:\n",
    "#         num = int(input('Choose a number: '))\n",
    "#         try:\n",
    "#             if num < 0:\n",
    "#                 raise ValueError(\"Negative numbers are not allowed. Please use natural numbers.\")\n",
    "#             print(divisors(num))\n",
    "#             print(f'Program runned properly')\n",
    "#         except ValueError as ve:\n",
    "#             print(ve)\n",
    "#         try:\n",
    "#             if num == 0:\n",
    "#                 raise ValueError(\"Zero has infinite divisors. Please use natural numbers.\")\n",
    "#         except ValueError as ve2:\n",
    "#             print(ve2)\n",
    "#         # if num != int:\n",
    "#         #     raise TypeError(\"Only integers are allowed\")\n",
    "#     except ValueError:\n",
    "#         print(\"Only integers are allowed\")\n",
    "    \n",
    "# if __name__ == '__main__':\n",
    "#     run()"
   ]
  },
  {
   "cell_type": "code",
   "execution_count": null,
   "metadata": {},
   "outputs": [],
   "source": [
    "num = 10\n",
    "divisors = lambda num: [x for x in range(1, num + 1) if num % x == 0]\n",
    "print(divisors(num))"
   ]
  },
  {
   "cell_type": "code",
   "execution_count": 86,
   "metadata": {},
   "outputs": [
    {
     "ename": "AssertionError",
     "evalue": "An empty string is not allowed.",
     "output_type": "error",
     "traceback": [
      "\u001b[0;31m---------------------------------------------------------------------------\u001b[0m",
      "\u001b[0;31mAssertionError\u001b[0m                            Traceback (most recent call last)",
      "\u001b[0;32m/tmp/ipykernel_5831/1015020715.py\u001b[0m in \u001b[0;36m<module>\u001b[0;34m\u001b[0m\n\u001b[1;32m      3\u001b[0m     \u001b[0;32mreturn\u001b[0m \u001b[0mstring\u001b[0m \u001b[0;34m==\u001b[0m \u001b[0mstring\u001b[0m\u001b[0;34m[\u001b[0m\u001b[0;34m:\u001b[0m\u001b[0;34m:\u001b[0m\u001b[0;34m-\u001b[0m\u001b[0;36m1\u001b[0m\u001b[0;34m]\u001b[0m\u001b[0;34m\u001b[0m\u001b[0;34m\u001b[0m\u001b[0m\n\u001b[1;32m      4\u001b[0m \u001b[0;34m\u001b[0m\u001b[0m\n\u001b[0;32m----> 5\u001b[0;31m \u001b[0mprint\u001b[0m\u001b[0;34m(\u001b[0m\u001b[0mpalindrome\u001b[0m\u001b[0;34m(\u001b[0m\u001b[0;34m\"\"\u001b[0m\u001b[0;34m)\u001b[0m\u001b[0;34m)\u001b[0m\u001b[0;34m\u001b[0m\u001b[0;34m\u001b[0m\u001b[0m\n\u001b[0m\u001b[1;32m      6\u001b[0m \u001b[0;34m\u001b[0m\u001b[0m\n",
      "\u001b[0;32m/tmp/ipykernel_5831/1015020715.py\u001b[0m in \u001b[0;36mpalindrome\u001b[0;34m(string)\u001b[0m\n\u001b[1;32m      1\u001b[0m \u001b[0;32mdef\u001b[0m \u001b[0mpalindrome\u001b[0m\u001b[0;34m(\u001b[0m\u001b[0mstring\u001b[0m\u001b[0;34m)\u001b[0m\u001b[0;34m:\u001b[0m\u001b[0;34m\u001b[0m\u001b[0;34m\u001b[0m\u001b[0m\n\u001b[0;32m----> 2\u001b[0;31m     \u001b[0;32massert\u001b[0m \u001b[0mlen\u001b[0m\u001b[0;34m(\u001b[0m\u001b[0mstring\u001b[0m\u001b[0;34m)\u001b[0m \u001b[0;34m>\u001b[0m \u001b[0;36m0\u001b[0m\u001b[0;34m,\u001b[0m \u001b[0;34m\"An empty string is not allowed.\"\u001b[0m\u001b[0;34m\u001b[0m\u001b[0;34m\u001b[0m\u001b[0m\n\u001b[0m\u001b[1;32m      3\u001b[0m     \u001b[0;32mreturn\u001b[0m \u001b[0mstring\u001b[0m \u001b[0;34m==\u001b[0m \u001b[0mstring\u001b[0m\u001b[0;34m[\u001b[0m\u001b[0;34m:\u001b[0m\u001b[0;34m:\u001b[0m\u001b[0;34m-\u001b[0m\u001b[0;36m1\u001b[0m\u001b[0;34m]\u001b[0m\u001b[0;34m\u001b[0m\u001b[0;34m\u001b[0m\u001b[0m\n\u001b[1;32m      4\u001b[0m \u001b[0;34m\u001b[0m\u001b[0m\n\u001b[1;32m      5\u001b[0m \u001b[0mprint\u001b[0m\u001b[0;34m(\u001b[0m\u001b[0mpalindrome\u001b[0m\u001b[0;34m(\u001b[0m\u001b[0;34m\"\"\u001b[0m\u001b[0;34m)\u001b[0m\u001b[0;34m)\u001b[0m\u001b[0;34m\u001b[0m\u001b[0;34m\u001b[0m\u001b[0m\n",
      "\u001b[0;31mAssertionError\u001b[0m: An empty string is not allowed."
     ]
    }
   ],
   "source": [
    "def palindrome(string):\n",
    "    assert len(string) > 0, \"An empty string is not allowed.\"\n",
    "    return string == string[::-1]\n",
    "\n",
    "print(palindrome(\"\"))\n",
    "\n"
   ]
  }
 ],
 "metadata": {
  "interpreter": {
   "hash": "e4772abd9e6fdb859a809bb41546b96e3e0ba07888129e686dc45d667cd5ccbb"
  },
  "kernelspec": {
   "display_name": "Python 3.8.10 64-bit ('venv': venv)",
   "name": "python3"
  },
  "language_info": {
   "codemirror_mode": {
    "name": "ipython",
    "version": 3
   },
   "file_extension": ".py",
   "mimetype": "text/x-python",
   "name": "python",
   "nbconvert_exporter": "python",
   "pygments_lexer": "ipython3",
   "version": "3.8.10"
  },
  "orig_nbformat": 4
 },
 "nbformat": 4,
 "nbformat_minor": 2
}
