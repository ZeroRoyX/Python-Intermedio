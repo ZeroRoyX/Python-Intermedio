{
 "cells": [
  {
   "cell_type": "code",
   "execution_count": 6,
   "metadata": {},
   "outputs": [
    {
     "name": "stdout",
     "output_type": "stream",
     "text": [
      "[]\n",
      "Program runned properly\n"
     ]
    }
   ],
   "source": [
    "def divisors(num):\n",
    "    myrange = range(1, num + 1)\n",
    "    divisors = list(filter(lambda x: num % x == 0, myrange))\n",
    "    return divisors\n",
    "\n",
    "\n",
    "def run():\n",
    "    num = input('Choose a number: ')\n",
    "    assert num.isnumeric(), \"Letters and negative numbers are now allowed, please use natural numbers.\"\n",
    "    num = int(num)\n",
    "    print(divisors(num))\n",
    "    print(f'Program runned properly')\n",
    "\n",
    "if __name__ == '__main__':\n",
    "    run()"
   ]
  }
 ],
 "metadata": {
  "interpreter": {
   "hash": "e4772abd9e6fdb859a809bb41546b96e3e0ba07888129e686dc45d667cd5ccbb"
  },
  "kernelspec": {
   "display_name": "Python 3.8.10 64-bit ('venv': venv)",
   "name": "python3"
  },
  "language_info": {
   "codemirror_mode": {
    "name": "ipython",
    "version": 3
   },
   "file_extension": ".py",
   "mimetype": "text/x-python",
   "name": "python",
   "nbconvert_exporter": "python",
   "pygments_lexer": "ipython3",
   "version": "3.8.10"
  },
  "orig_nbformat": 4
 },
 "nbformat": 4,
 "nbformat_minor": 2
}
