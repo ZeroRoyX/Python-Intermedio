{
 "cells": [
  {
   "cell_type": "code",
   "execution_count": 30,
   "metadata": {},
   "outputs": [
    {
     "name": "stdout",
     "output_type": "stream",
     "text": [
      "{'name': 'Facundo', 'age': 72, 'organization': 'Platzi', 'position': 'Technical Coach', 'language': 'python', 'old': True}\n",
      "{'name': 'Luisana', 'age': 33, 'organization': 'Globant', 'position': 'UX Designer', 'language': 'javascript', 'old': False}\n",
      "{'name': 'Héctor', 'age': 19, 'organization': 'Platzi', 'position': 'Associate', 'language': 'ruby', 'old': False}\n",
      "{'name': 'Gabriel', 'age': 20, 'organization': 'Platzi', 'position': 'Associate', 'language': 'javascript', 'old': False}\n",
      "{'name': 'Isabella', 'age': 30, 'organization': 'Platzi', 'position': 'QA Manager', 'language': 'java', 'old': False}\n",
      "{'name': 'Karo', 'age': 23, 'organization': 'Everis', 'position': 'Backend Developer', 'language': 'python', 'old': False}\n",
      "{'name': 'Ariel', 'age': 32, 'organization': 'Rappi', 'position': 'Support', 'language': '', 'old': False}\n",
      "{'name': 'Juan', 'age': 17, 'organization': '', 'position': 'Student', 'language': 'go', 'old': False}\n",
      "{'name': 'Pablo', 'age': 32, 'organization': 'Master', 'position': 'Human Resources Manager', 'language': 'python', 'old': False}\n",
      "{'name': 'Lorena', 'age': 56, 'organization': 'Python Organization', 'position': 'Language Maker', 'language': 'python', 'old': False}\n"
     ]
    }
   ],
   "source": [
    "from data_filtering_db import DATA\n",
    "\n",
    "def run():\n",
    "    # USING A FOR LOOP IN ORDER TO APPEND ELEMENT TO A LIST\n",
    "    # mylist = []\n",
    "    # for i in DATA:\n",
    "    #     # for j in i:\n",
    "    #         # print(j)\n",
    "    #     if i[\"language\"] == \"python\":\n",
    "    #         mylist.append(i[\"name\"])\n",
    "    #     else:\n",
    "    #         continue\n",
    "\n",
    "    # print(mylist)\n",
    "    \n",
    "    \n",
    "    all_python_devs = [worker[\"name\"] for worker in DATA if worker[\"language\"] == \"python\"]\n",
    "    # print(all_python_devs)\n",
    "    all_platzi_workers = [worker['name'] for worker in DATA if worker[\"organization\"] == \"Platzi\"]\n",
    "    adults = list(map(lambda worker: worker['name'], filter(lambda worker: worker['age'] > 18, DATA)))\n",
    "    old_people = list(map(lambda worker: worker | {\"old\": worker['age'] > 70}, DATA))\n",
    "\n",
    "\n",
    "    # CHALLENGE: Now convert the previous code in the other way: list comprehension to hof, and from hof to list comprehension.\n",
    "    all_python_devs = list(map(lambda worker: worker['name'], filter(lambda worker: worker[\"language\"] == \"python\", DATA)))\n",
    "    all_platzi_workers = list(map(lambda worker: worker['name'], filter(lambda worker: worker['organization'] == 'Platzi', DATA)))\n",
    "\n",
    "    adults = [worker['name'] for worker in DATA if worker['age'] > 18]\n",
    "    old_people = [worker | {'old': worker['age'] > 70} for worker in DATA]\n",
    "\n",
    "    # old_people = list(map(lambda worker: worker.update({'young': 1}), DATA))\n",
    "    # old_people = list(map(lambda worker: worker.update(\"young\", worker['age'] <70), DATA))\n",
    "    \n",
    "    for worker in old_people: # Loops each element in the list.\n",
    "        print(worker)\n",
    "\n",
    "    \n",
    "\n",
    "\n",
    "if __name__ == '__main__':\n",
    "    run()"
   ]
  }
 ],
 "metadata": {
  "interpreter": {
   "hash": "bafb366b560cd7299c811771d7c84b727a170f9d535be40112edda2833854391"
  },
  "kernelspec": {
   "display_name": "Python 3.9.7 64-bit ('py39': conda)",
   "name": "python3"
  },
  "language_info": {
   "codemirror_mode": {
    "name": "ipython",
    "version": 3
   },
   "file_extension": ".py",
   "mimetype": "text/x-python",
   "name": "python",
   "nbconvert_exporter": "python",
   "pygments_lexer": "ipython3",
   "version": "3.9.7"
  },
  "orig_nbformat": 4
 },
 "nbformat": 4,
 "nbformat_minor": 2
}
