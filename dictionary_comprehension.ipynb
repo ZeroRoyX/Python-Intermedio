{
 "cells": [
  {
   "cell_type": "code",
   "execution_count": 2,
   "metadata": {},
   "outputs": [
    {
     "name": "stdout",
     "output_type": "stream",
     "text": [
      "{1: 1, 2: 8, 4: 64, 5: 125, 7: 343, 8: 512, 10: 1000, 11: 1331, 13: 2197, 14: 2744, 16: 4096, 17: 4913, 19: 6859, 20: 8000, 22: 10648, 23: 12167, 25: 15625, 26: 17576, 28: 21952, 29: 24389, 31: 29791, 32: 32768, 34: 39304, 35: 42875, 37: 50653, 38: 54872, 40: 64000, 41: 68921, 43: 79507, 44: 85184, 46: 97336, 47: 103823, 49: 117649, 50: 125000, 52: 140608, 53: 148877, 55: 166375, 56: 175616, 58: 195112, 59: 205379, 61: 226981, 62: 238328, 64: 262144, 65: 274625, 67: 300763, 68: 314432, 70: 343000, 71: 357911, 73: 389017, 74: 405224, 76: 438976, 77: 456533, 79: 493039, 80: 512000, 82: 551368, 83: 571787, 85: 614125, 86: 636056, 88: 681472, 89: 704969, 91: 753571, 92: 778688, 94: 830584, 95: 857375, 97: 912673, 98: 941192, 100: 1000000}\n"
     ]
    }
   ],
   "source": [
    "def run():\n",
    "    my_dict = {}\n",
    "\n",
    "    # for i in range(1,101):\n",
    "    #     my_dict[i] = i**3\n",
    "    \n",
    "    # my_dict = {i : i**3 for i in range(1,101)}\n",
    "\n",
    "    for i in range(1,101):\n",
    "        if i % 3 != 0:\n",
    "            my_dict[i] = i**3\n",
    "        \n",
    "    # my_dict = {i: i**3 for i in range(1,101) if i % 3 != 0}\n",
    "\n",
    "\n",
    "    \"\"\" Crear, con un dictionary comprehension, un diccionario cuyas llaves sean \n",
    "    los 1000 primeros numeros naturales con sus raices cuadradas como valores.\n",
    "    \"\"\"\n",
    "\n",
    "    # my_dict = {i: round(i**0.5, 2) for i in range(1,1001)}\n",
    "    \n",
    "    print(my_dict)\n",
    "\n",
    "\n",
    "if __name__ == '__main__':\n",
    "    run()"
   ]
  },
  {
   "cell_type": "code",
   "execution_count": null,
   "metadata": {},
   "outputs": [],
   "source": [
    "# a_number = int(input('Type a number which will be powered: '))\n",
    "# LIMIT = 1000\n",
    "# count = 0\n",
    "# number_power = a_number**count\n",
    "# while number_power < LIMIT:\n",
    "#     print(f'{a_number} elevado a la {count} es igual a {number_power}.')\n",
    "#     count += 1\n",
    "#     number_power = a_number **count\n",
    "    \n"
   ]
  },
  {
   "cell_type": "code",
   "execution_count": 6,
   "metadata": {},
   "outputs": [
    {
     "name": "stdout",
     "output_type": "stream",
     "text": [
      "pinchesperringolingos, sognilognirrepsehcnip\n",
      "The word is not a palindrome.\n"
     ]
    }
   ],
   "source": [
    "def is_palindrome():\n",
    "    word = input(\"Write a word: \").lower().replace(\" \", \"\")\n",
    "    word_inverted = word[::-1]\n",
    "    print(f'{word}, {word_inverted}')\n",
    "    if word == word_inverted:\n",
    "        return True\n",
    "    else:\n",
    "        False\n",
    "\n",
    "\n",
    "def run():\n",
    "    if is_palindrome():\n",
    "        print(\"The word is a palindrome.\")\n",
    "    else:\n",
    "        print(\"The word is not a palindrome.\")\n",
    "\n",
    "\n",
    "if __name__ == '__main__':\n",
    "    run()"
   ]
  }
 ],
 "metadata": {
  "interpreter": {
   "hash": "e4772abd9e6fdb859a809bb41546b96e3e0ba07888129e686dc45d667cd5ccbb"
  },
  "kernelspec": {
   "display_name": "Python 3.8.10 64-bit ('venv': venv)",
   "name": "python3"
  },
  "language_info": {
   "codemirror_mode": {
    "name": "ipython",
    "version": 3
   },
   "file_extension": ".py",
   "mimetype": "text/x-python",
   "name": "python",
   "nbconvert_exporter": "python",
   "pygments_lexer": "ipython3",
   "version": "3.8.10"
  },
  "orig_nbformat": 4
 },
 "nbformat": 4,
 "nbformat_minor": 2
}
