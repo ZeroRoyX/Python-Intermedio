{
 "cells": [
  {
   "cell_type": "code",
   "execution_count": 2,
   "source": [
    "import antigravity"
   ],
   "outputs": [],
   "metadata": {}
  }
 ],
 "metadata": {
  "orig_nbformat": 4,
  "language_info": {
   "name": "python",
   "version": "3.9.7",
   "mimetype": "text/x-python",
   "codemirror_mode": {
    "name": "ipython",
    "version": 3
   },
   "pygments_lexer": "ipython3",
   "nbconvert_exporter": "python",
   "file_extension": ".py"
  },
  "kernelspec": {
   "name": "python3",
   "display_name": "Python 3.9.7 64-bit ('py39': conda)"
  },
  "interpreter": {
   "hash": "9c7c0ae0fad67ac25c5c5f7f1109c25f8ebbc51a5d00959b05c35c0bd00d807f"
  }
 },
 "nbformat": 4,
 "nbformat_minor": 2
}