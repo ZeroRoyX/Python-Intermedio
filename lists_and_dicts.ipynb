{
 "cells": [
  {
   "cell_type": "code",
   "execution_count": null,
   "source": [
    "def run():\n",
    "    my_list = [1, \"Hello\", True, 4.5]\n",
    "    my_dict = {\"firstname\": \"Facundo\", \"lastname\": \"García\"}\n",
    "\n",
    "    super_list = [\n",
    "        {\"firstname\": \"Facundo\", \"lastname\": \"García\"},\n",
    "        {\"firstname\": \"Miguel\", \"lastname\": \"Torres\"},\n",
    "        {\"firstname\": \"Pepe\", \"lastname\": \"Rodelo\"},\n",
    "        {\"firstname\": \"Susana\", \"lastname\": \"Martínez\"},\n",
    "        {\"firstname\": \"José\", \"lastname\": \"García\"}\n",
    "    ]\n",
    "\n",
    "    super_dict = {\n",
    "        \"natural_nums\": [1, 2, 3, 4, 5],\n",
    "        \"integer_nums\": [-2, -1, 0, 1, 2],\n",
    "        \"floating_nums\": [1.1, 2.2, 3.3, 4.4]\n",
    "    }\n",
    "\n",
    "    # for key, value in super_dict.items():\n",
    "        # print(key,\"-\", value)\n",
    "\n",
    "    for i in super_list:\n",
    "        for j in i.values():\n",
    "            print(j)\n",
    "\n",
    "    for i in super_list:\n",
    "        print(i.items())\n",
    "\n",
    "    # for i, j in my_dict.items():\n",
    "    #     print(i, j)\n",
    "\n",
    "if __name__ == '__main__':\n",
    "    run()"
   ],
   "outputs": [],
   "metadata": {}
  },
  {
   "cell_type": "code",
   "execution_count": 85,
   "source": [
    "super_dict = {\n",
    "        \"natural_nums\": [1, 2, 3, 4, 5],\n",
    "        \"integer_nums\": [-2, -1, 0, 1, 2],\n",
    "        \"floating_nums\": [1.1, 2.2, 3.3, 4.4]\n",
    "}\n",
    "sqr_list = []\n",
    "\n",
    "for i in range(1,101):\n",
    "    sqr_list.append(i**2)\n",
    "\n",
    "print(sqr_list)"
   ],
   "outputs": [
    {
     "output_type": "stream",
     "name": "stdout",
     "text": [
      "[1, 4, 9, 16, 25, 36, 49, 64, 81, 100, 121, 144, 169, 196, 225, 256, 289, 324, 361, 400, 441, 484, 529, 576, 625, 676, 729, 784, 841, 900, 961, 1024, 1089, 1156, 1225, 1296, 1369, 1444, 1521, 1600, 1681, 1764, 1849, 1936, 2025, 2116, 2209, 2304, 2401, 2500, 2601, 2704, 2809, 2916, 3025, 3136, 3249, 3364, 3481, 3600, 3721, 3844, 3969, 4096, 4225, 4356, 4489, 4624, 4761, 4900, 5041, 5184, 5329, 5476, 5625, 5776, 5929, 6084, 6241, 6400, 6561, 6724, 6889, 7056, 7225, 7396, 7569, 7744, 7921, 8100, 8281, 8464, 8649, 8836, 9025, 9216, 9409, 9604, 9801, 10000]\n"
     ]
    }
   ],
   "metadata": {}
  }
 ],
 "metadata": {
  "orig_nbformat": 4,
  "language_info": {
   "name": "python",
   "version": "3.8.10"
  },
  "kernelspec": {
   "name": "python3",
   "display_name": "Python 3.8.10 64-bit ('venv': venv)"
  },
  "interpreter": {
   "hash": "4ed2f14ad05b954b6d4928c1296afe9e41104ab691aa5cf7b5c068cf6fcbb0a6"
  }
 },
 "nbformat": 4,
 "nbformat_minor": 2
}